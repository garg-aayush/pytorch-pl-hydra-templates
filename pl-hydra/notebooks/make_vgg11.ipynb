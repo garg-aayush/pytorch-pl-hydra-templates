{
 "metadata": {
  "language_info": {
   "codemirror_mode": {
    "name": "ipython",
    "version": 3
   },
   "file_extension": ".py",
   "mimetype": "text/x-python",
   "name": "python",
   "nbconvert_exporter": "python",
   "pygments_lexer": "ipython3",
   "version": "3.8.13-final"
  },
  "orig_nbformat": 2,
  "kernelspec": {
   "name": "python38264bitpytorchcondad338a0d9609a4ea7a86cafca05238e80",
   "display_name": "Python 3.8.2 64-bit ('PYTORCH': conda)"
  }
 },
 "nbformat": 4,
 "nbformat_minor": 2,
 "cells": [
  {
   "cell_type": "code",
   "execution_count": null,
   "metadata": {},
   "outputs": [],
   "source": [
    "## Standard libraries\n",
    "import os\n",
    "\n",
    "## PyTorch\n",
    "import torch\n",
    "import torch.nn as nn\n",
    "import torch.utils.data as data\n",
    "import torch.optim as optim\n",
    "from types import SimpleNamespace\n",
    "\n",
    "import math\n",
    "import torch.nn.init as init"
   ]
  },
  {
   "cell_type": "code",
   "execution_count": 10,
   "metadata": {
    "tags": []
   },
   "outputs": [
    {
     "output_type": "stream",
     "name": "stdout",
     "text": "Files already downloaded and verified\n"
    }
   ],
   "source": [
    "## classes\n",
    "name_classes = ['Airplane', 'Automobile', 'Bird', 'Cat', 'Deer', 'Dog', 'Frog', 'Horse', 'Ship', 'Truck']\n",
    "\n",
    "# Act fns\n",
    "act_fn_by_name = {\n",
    "    \"tanh\": nn.Tanh,\n",
    "    \"relu\": nn.ReLU,\n",
    "    \"leakyrelu\": nn.LeakyReLU,\n",
    "    \"gelu\": nn.GELU\n",
    "}\n",
    "# Path to the folder where the datasets are/should be downloaded (e.g. CIFAR10)\n",
    "DATASET_PATH = \"../data\"\n",
    "\n"
   ]
  },
  {
   "cell_type": "code",
   "execution_count": 142,
   "metadata": {},
   "outputs": [],
   "source": [
    "## VGG network\n",
    "class CnnBlock(nn.Module):\n",
    "\n",
    "    def __init__(self, c_in, c_out, act_fn):\n",
    "        \"\"\"\n",
    "        Inputs:\n",
    "            c_in - Number of input feature maps from the previous layers\n",
    "            c_out - Number of output feature maps\n",
    "            act_fn - Activation class constructor (e.g. nn.ReLU)\n",
    "        \"\"\"\n",
    "        super().__init__()\n",
    "\n",
    "        self.conv = nn.Sequential(\n",
    "            nn.Conv2d(c_in, c_out, kernel_size=3, padding=1),\n",
    "            nn.BatchNorm2d(c_out),\n",
    "            act_fn()\n",
    "        )\n",
    "\n",
    "    def forward(self, x):\n",
    "        return self.conv(x)\n",
    "\n",
    "class VGG11(nn.Module):\n",
    "    '''\n",
    "    VGG model \n",
    "    '''\n",
    "    def __init__(self,\n",
    "                num_classes: int=10,\n",
    "                act_fn_name = \"relu\",\n",
    "                **kwargs):\n",
    "        super().__init__()\n",
    "        self.hparams = SimpleNamespace(num_classes=num_classes,\n",
    "                                        act_fn_name=act_fn_name)\n",
    "        #print(self.hparams)\n",
    "        self._create_network()\n",
    "        self._init_params()\n",
    "\n",
    "\n",
    "    def _create_network(self):\n",
    "        \n",
    "        # Creating the features map\n",
    "        self.vgg_blocks = nn.Sequential(\n",
    "            CnnBlock(3, 64, act_fn=act_fn_by_name[self.hparams.act_fn_name]),\n",
    "            nn.MaxPool2d(kernel_size=2, stride=2),\n",
    "            CnnBlock(64, 128, act_fn=act_fn_by_name[self.hparams.act_fn_name]),\n",
    "            nn.MaxPool2d(kernel_size=2, stride=2),\n",
    "            CnnBlock(128, 256, act_fn=act_fn_by_name[self.hparams.act_fn_name]),\n",
    "            #CnnBlock(256, 256, act_fn=act_fn_by_name[self.hparams.act_fn_name]),\n",
    "            nn.MaxPool2d(kernel_size=2, stride=2),\n",
    "            CnnBlock(256, 512, act_fn=act_fn_by_name[self.hparams.act_fn_name]),\n",
    "            #CnnBlock(512, 512, act_fn=act_fn_by_name[self.hparams.act_fn_name]),\n",
    "            nn.MaxPool2d(kernel_size=2, stride=2),\n",
    "            CnnBlock(512, 512, act_fn=act_fn_by_name[self.hparams.act_fn_name]),\n",
    "            #CnnBlock(512, 512, act_fn=act_fn_by_name[self.hparams.act_fn_name]),\n",
    "            nn.MaxPool2d(kernel_size=2, stride=2),\n",
    "        )\n",
    "        \n",
    "        # Mapping to classification output\n",
    "        self.output_net = nn.Sequential(nn.Flatten(),\n",
    "                                        nn.Linear(512, 512),\n",
    "                                        act_fn_by_name[self.hparams.act_fn_name](),\n",
    "                                        nn.Linear(512, 512),\n",
    "                                        act_fn_by_name[self.hparams.act_fn_name](),\n",
    "                                        nn.Linear(512, self.hparams.num_classes),\n",
    "                                        )\n",
    "\n",
    "    def _init_params(self):\n",
    "        for m in self.modules():\n",
    "            if isinstance(m, nn.Conv2d):\n",
    "                nn.init.kaiming_normal_(\n",
    "                    m.weight, \n",
    "                    nonlinearity=self.hparams.act_fn_name)\n",
    "            elif isinstance(m, nn.BatchNorm2d):\n",
    "                nn.init.constant_(m.weight, 1)\n",
    "                nn.init.constant_(m.bias, 0)\n",
    "\n",
    "\n",
    "    def forward(self, x):\n",
    "        x = self.vgg_blocks(x)\n",
    "        x = self.output_net(x)\n",
    "        return x"
   ]
  },
  {
   "cell_type": "code",
   "execution_count": 143,
   "metadata": {},
   "outputs": [],
   "source": [
    "device = torch.device(\"cuda\" if torch.cuda.is_available() else \"cpu\") # PyTorch v0.4.0\n",
    "model = VGG11().to(device)"
   ]
  },
  {
   "cell_type": "code",
   "execution_count": 144,
   "metadata": {
    "tags": []
   },
   "outputs": [
    {
     "output_type": "stream",
     "name": "stdout",
     "text": "----------------------------------------------------------------\n        Layer (type)               Output Shape         Param #\n================================================================\n            Conv2d-1           [-1, 64, 32, 32]           1,792\n       BatchNorm2d-2           [-1, 64, 32, 32]             128\n              ReLU-3           [-1, 64, 32, 32]               0\n          CnnBlock-4           [-1, 64, 32, 32]               0\n         MaxPool2d-5           [-1, 64, 16, 16]               0\n            Conv2d-6          [-1, 128, 16, 16]          73,856\n       BatchNorm2d-7          [-1, 128, 16, 16]             256\n              ReLU-8          [-1, 128, 16, 16]               0\n          CnnBlock-9          [-1, 128, 16, 16]               0\n        MaxPool2d-10            [-1, 128, 8, 8]               0\n           Conv2d-11            [-1, 256, 8, 8]         295,168\n      BatchNorm2d-12            [-1, 256, 8, 8]             512\n             ReLU-13            [-1, 256, 8, 8]               0\n         CnnBlock-14            [-1, 256, 8, 8]               0\n        MaxPool2d-15            [-1, 256, 4, 4]               0\n           Conv2d-16            [-1, 512, 4, 4]       1,180,160\n      BatchNorm2d-17            [-1, 512, 4, 4]           1,024\n             ReLU-18            [-1, 512, 4, 4]               0\n         CnnBlock-19            [-1, 512, 4, 4]               0\n        MaxPool2d-20            [-1, 512, 2, 2]               0\n           Conv2d-21            [-1, 512, 2, 2]       2,359,808\n      BatchNorm2d-22            [-1, 512, 2, 2]           1,024\n             ReLU-23            [-1, 512, 2, 2]               0\n         CnnBlock-24            [-1, 512, 2, 2]               0\n        MaxPool2d-25            [-1, 512, 1, 1]               0\n          Flatten-26                  [-1, 512]               0\n           Linear-27                  [-1, 512]         262,656\n             ReLU-28                  [-1, 512]               0\n           Linear-29                  [-1, 512]         262,656\n             ReLU-30                  [-1, 512]               0\n           Linear-31                   [-1, 10]           5,130\n================================================================\nTotal params: 4,444,170\nTrainable params: 4,444,170\nNon-trainable params: 0\n----------------------------------------------------------------\nInput size (MB): 0.01\nForward/backward pass size (MB): 4.07\nParams size (MB): 16.95\nEstimated Total Size (MB): 21.04\n----------------------------------------------------------------\n"
    }
   ],
   "source": [
    "summary(model, (3, 32, 32))"
   ]
  },
  {
   "cell_type": "code",
   "execution_count": null,
   "metadata": {},
   "outputs": [],
   "source": []
  }
 ]
}